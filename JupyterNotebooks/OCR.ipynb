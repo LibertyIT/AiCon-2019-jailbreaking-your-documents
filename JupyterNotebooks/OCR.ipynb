{
 "cells": [
  {
   "cell_type": "markdown",
   "metadata": {},
   "source": [
    "## OCR - Tesseract Example"
   ]
  },
  {
   "cell_type": "markdown",
   "metadata": {},
   "source": [
    "### Install Tesseract in your conda enviornment "
   ]
  },
  {
   "cell_type": "markdown",
   "metadata": {},
   "source": [
    "1. Open terminal\n",
    "2. Activate your conda enviornment \n",
    "   `conda activate /usr/local/anaconda3/envs/aicon-2019-tesseract`\n",
    "3. Install tesseract \n",
    "   `conda install -c mcs07 tesseract`"
   ]
  },
  {
   "cell_type": "markdown",
   "metadata": {},
   "source": [
    "### Install Dependencies"
   ]
  },
  {
   "cell_type": "code",
   "execution_count": null,
   "metadata": {},
   "outputs": [],
   "source": [
    "!pip install pillow\n",
    "!pip install pytesseract\n",
    "!pip install opencv-python\n",
    "!pip install -U matplotlib"
   ]
  },
  {
   "cell_type": "markdown",
   "metadata": {},
   "source": [
    "### Import Required Libraries"
   ]
  },
  {
   "cell_type": "code",
   "execution_count": 25,
   "metadata": {},
   "outputs": [],
   "source": [
    "import pytesseract\n",
    "import cv2\n",
    "from matplotlib import pyplot as plt\n",
    "from PIL import Image"
   ]
  },
  {
   "cell_type": "markdown",
   "metadata": {},
   "source": [
    "### Declare Global Properties"
   ]
  },
  {
   "cell_type": "code",
   "execution_count": 79,
   "metadata": {},
   "outputs": [],
   "source": [
    "IMAGE_DIR = 'dataFiles/'\n",
    "IMAGE_NAME = \"Sample_Invoice.jpg\""
   ]
  },
  {
   "cell_type": "markdown",
   "metadata": {},
   "source": [
    "### Step 1 : Read in Image as Black and White"
   ]
  },
  {
   "cell_type": "code",
   "execution_count": 80,
   "metadata": {},
   "outputs": [
    {
     "data": {
      "text/plain": [
       "<matplotlib.image.AxesImage at 0x127177690>"
      ]
     },
     "execution_count": 80,
     "metadata": {},
     "output_type": "execute_result"
    },
    {
     "data": {
      "image/png": "[encoded data removed]",
      "text/plain": [
       "<Figure size 432x288 with 1 Axes>"
      ]
     },
     "metadata": {
      "needs_background": "light"
     },
     "output_type": "display_data"
    }
   ],
   "source": [
    "image = cv2.imread(IMAGE_DIR + IMAGE_NAME, 0)\n",
    "plt.imshow(image)"
   ]
  },
  {
   "cell_type": "markdown",
   "metadata": {},
   "source": [
    "### Step 2 : Pre Process Image"
   ]
  },
  {
   "cell_type": "code",
   "execution_count": null,
   "metadata": {},
   "outputs": [],
   "source": []
  },
  {
   "cell_type": "markdown",
   "metadata": {},
   "source": [
    "### Step 2: Perform OCR"
   ]
  },
  {
   "cell_type": "code",
   "execution_count": 81,
   "metadata": {},
   "outputs": [
    {
     "name": "stdout",
     "output_type": "stream",
     "text": [
      "Sample Test Invoice\n",
      "\n",
      "Salesperson Job\n",
      "\n",
      "Mark Woodside Sales Repo\n",
      "Qty Description\n",
      "\n",
      "1 Cloth\n",
      "\n",
      "2 Dog Bowl\n",
      "\n",
      "4 Blankets\n",
      "\n",
      "2 Ball\n",
      "\n",
      "1 Lead\n",
      "\n",
      "INVOICE\n",
      "\n",
      "Date: 01/01/2019\n",
      "INVOICE # 100\n",
      "\n",
      "John Smith\n",
      "\n",
      "Smith Dogs Hotel\n",
      "\n",
      "100 Long Roadway,\n",
      "Belfast, Co. Antrim,\n",
      "BT32 QQU\n",
      "\n",
      "028 90 222222\n",
      "Customer ID ABC12345\n",
      "\n",
      "Payment Terms Due Date\n",
      "Due on receipt 02.23.2019\n",
      "\n",
      "Unit Price Line Total\n",
      "\n",
      "£12.00 £12.00\n",
      "£10.00 £20.00\n",
      "£10.50 £42.00\n",
      "£5.00 £10.00\n",
      "\n",
      "£9.00 £9.00\n",
      "Subtotal £93.00\n",
      "Sales Tax £23.00\n",
      "Total £116.00\n",
      "\n",
      "Make all checks payable to Sample Test Invoice\n",
      "Thank yau for yaur business]\n",
      "\n",
      "Sample Test Invoice, Belfast, Main Street\n"
     ]
    }
   ],
   "source": [
    "ocr_result = pytesseract.image_to_string(Image.fromarray(image), lang=\"eng\")\n",
    "print(ocr_result)"
   ]
  },
  {
   "cell_type": "markdown",
   "metadata": {},
   "source": [
    "### Data has been extracted"
   ]
  }
 ],
 "metadata": {
  "kernelspec": {
   "display_name": "Python 3",
   "language": "python",
   "name": "python3"
  },
  "language_info": {
   "codemirror_mode": {
    "name": "ipython",
    "version": 3
   },
   "file_extension": ".py",
   "mimetype": "text/x-python",
   "name": "python",
   "nbconvert_exporter": "python",
   "pygments_lexer": "ipython3",
   "version": "3.7.5"
  }
 },
 "nbformat": 4,
 "nbformat_minor": 4
}
