{
 "cells": [
  {
   "cell_type": "markdown",
   "metadata": {},
   "source": [
    "# Text Classification using Scikit-learn\n",
    "\n",
    "## Overview\n",
    "In this example we will use scikit-learn to train a Naive Bayes classifier using the 20 news groupd data set that is built into scikit-learn.\n",
    "\n",
    "## Resources\n",
    "Below is the resources that we used to put together this example:\n",
    "- https://scikit-learn.org/\n",
    "- https://scikit-learn.org/0.16/datasets/index.html\n",
    "- https://seaborn.pydata.org/\n",
    "- Book : Python Machine Learning By Example - Second Edition by Yuxi Liu\n",
    "\n",
    "## Getting Started"
   ]
  },
  {
   "cell_type": "code",
   "execution_count": 1,
   "metadata": {},
   "outputs": [
    {
     "name": "stdout",
     "output_type": "stream",
     "text": [
      "Collecting sklearn\n",
      "  Downloading https://files.pythonhosted.org/packages/1e/7a/dbb3be0ce9bd5c8b7e3d87328e79063f8b263b2b1bfa4774cb1147bfcd3f/sklearn-0.0.tar.gz\n",
      "Collecting seaborn\n",
      "\u001b[?25l  Downloading https://files.pythonhosted.org/packages/a8/76/220ba4420459d9c4c9c9587c6ce607bf56c25b3d3d2de62056efe482dadc/seaborn-0.9.0-py3-none-any.whl (208kB)\n",
      "\u001b[K     |████████████████████████████████| 215kB 1.8MB/s eta 0:00:01\n",
      "\u001b[?25hCollecting scikit-learn\n",
      "\u001b[?25l  Downloading https://files.pythonhosted.org/packages/b1/db/102a43a72afd2b0938ca039af6047e2a2bf5e5d5eb1bbe38ce616e2d750d/scikit_learn-0.22-cp37-cp37m-macosx_10_6_intel.whl (10.9MB)\n",
      "\u001b[K     |████████████████████████████████| 10.9MB 9.9MB/s eta 0:00:01\n",
      "\u001b[?25hRequirement already satisfied: numpy>=1.9.3 in /Users/stuartgreenlees/opt/anaconda3/envs/aicon-2019-tesseract/lib/python3.7/site-packages (from seaborn) (1.17.4)\n",
      "Collecting pandas>=0.15.2\n",
      "\u001b[?25l  Downloading https://files.pythonhosted.org/packages/16/b5/bab3477466a4d9e705d40829ac65683155e7977acbc07f05b06fabded1be/pandas-0.25.3-cp37-cp37m-macosx_10_9_x86_64.whl (10.2MB)\n",
      "\u001b[K     |████████████████████████████████| 10.2MB 9.6MB/s eta 0:00:01\n",
      "\u001b[?25hRequirement already satisfied: matplotlib>=1.4.3 in /Users/stuartgreenlees/opt/anaconda3/envs/aicon-2019-tesseract/lib/python3.7/site-packages (from seaborn) (3.1.2)\n",
      "Collecting scipy>=0.14.0\n",
      "\u001b[?25l  Downloading https://files.pythonhosted.org/packages/43/df/3f85a3a762e5dd8d593614288c1f86a5dfbb8b20071192e850d1a9934e7d/scipy-1.3.3-cp37-cp37m-macosx_10_6_intel.whl (27.7MB)\n",
      "\u001b[K     |████████████████████████████████| 27.7MB 978kB/s eta 0:00:01\n",
      "\u001b[?25hCollecting joblib>=0.11\n",
      "\u001b[?25l  Downloading https://files.pythonhosted.org/packages/8f/42/155696f85f344c066e17af287359c9786b436b1bf86029bb3411283274f3/joblib-0.14.0-py2.py3-none-any.whl (294kB)\n",
      "\u001b[K     |████████████████████████████████| 296kB 910kB/s eta 0:00:01\n",
      "\u001b[?25hRequirement already satisfied: python-dateutil>=2.6.1 in /Users/stuartgreenlees/opt/anaconda3/envs/aicon-2019-tesseract/lib/python3.7/site-packages (from pandas>=0.15.2->seaborn) (2.8.1)\n",
      "Collecting pytz>=2017.2\n",
      "  Using cached https://files.pythonhosted.org/packages/e7/f9/f0b53f88060247251bf481fa6ea62cd0d25bf1b11a87888e53ce5b7c8ad2/pytz-2019.3-py2.py3-none-any.whl\n",
      "Requirement already satisfied: cycler>=0.10 in /Users/stuartgreenlees/opt/anaconda3/envs/aicon-2019-tesseract/lib/python3.7/site-packages (from matplotlib>=1.4.3->seaborn) (0.10.0)\n",
      "Requirement already satisfied: kiwisolver>=1.0.1 in /Users/stuartgreenlees/opt/anaconda3/envs/aicon-2019-tesseract/lib/python3.7/site-packages (from matplotlib>=1.4.3->seaborn) (1.1.0)\n",
      "Requirement already satisfied: pyparsing!=2.0.4,!=2.1.2,!=2.1.6,>=2.0.1 in /Users/stuartgreenlees/opt/anaconda3/envs/aicon-2019-tesseract/lib/python3.7/site-packages (from matplotlib>=1.4.3->seaborn) (2.4.5)\n",
      "Requirement already satisfied: six>=1.5 in /Users/stuartgreenlees/opt/anaconda3/envs/aicon-2019-tesseract/lib/python3.7/site-packages (from python-dateutil>=2.6.1->pandas>=0.15.2->seaborn) (1.13.0)\n",
      "Requirement already satisfied: setuptools in /Users/stuartgreenlees/opt/anaconda3/envs/aicon-2019-tesseract/lib/python3.7/site-packages (from kiwisolver>=1.0.1->matplotlib>=1.4.3->seaborn) (42.0.2.post20191203)\n",
      "Building wheels for collected packages: sklearn\n",
      "  Building wheel for sklearn (setup.py) ... \u001b[?25ldone\n",
      "\u001b[?25h  Created wheel for sklearn: filename=sklearn-0.0-py2.py3-none-any.whl size=1316 sha256=da7de31eb3e453c8cae3f00718599e508e1b0f93d297e9866ffb80eb54159a99\n",
      "  Stored in directory: /Users/stuartgreenlees/Library/Caches/pip/wheels/76/03/bb/589d421d27431bcd2c6da284d5f2286c8e3b2ea3cf1594c074\n",
      "Successfully built sklearn\n",
      "Installing collected packages: joblib, scipy, scikit-learn, sklearn, pytz, pandas, seaborn\n",
      "Successfully installed joblib-0.14.0 pandas-0.25.3 pytz-2019.3 scikit-learn-0.22 scipy-1.3.3 seaborn-0.9.0 sklearn-0.0\n"
     ]
    }
   ],
   "source": [
    "!pip install sklearn seaborn"
   ]
  },
  {
   "cell_type": "markdown",
   "metadata": {},
   "source": [
    "## Step 1: Load Training Data\n",
    "\n",
    "\"20 Newsgroup\" - Scikit built in data set\n",
    "\n",
    "- https://scikit-learn.org/0.16/modules/generated/sklearn.datasets.fetch_20newsgroups.html#sklearn.datasets.fetch_20newsgroups \n",
    "- https://github.com/scikit-learn/scikit-learn/blob/a95203b/sklearn/datasets/twenty_newsgroups.py#L151"
   ]
  },
  {
   "cell_type": "code",
   "execution_count": 4,
   "metadata": {},
   "outputs": [
    {
     "name": "stderr",
     "output_type": "stream",
     "text": [
      "Downloading 20news dataset. This may take a few minutes.\n",
      "Downloading dataset from https://ndownloader.figshare.com/files/5975967 (14 MB)\n"
     ]
    },
    {
     "name": "stdout",
     "output_type": "stream",
     "text": [
      "Training Categories: ['rec.autos', 'rec.motorcycles', 'rec.sport.baseball', 'rec.sport.hockey']\n",
      "Total Training Data: 2389\n"
     ]
    }
   ],
   "source": [
    "from sklearn.datasets import fetch_20newsgroups\n",
    "\n",
    "# Use 4 of the 20 categories\n",
    "sub_catergory_list = ['rec.autos', 'rec.motorcycles',\n",
    "                      'rec.sport.baseball','rec.sport.hockey']\n",
    "\n",
    "# Get training data\n",
    "training_data = fetch_20newsgroups(subset='train', \n",
    "                                   categories=sub_catergory_list, \n",
    "                                   shuffle=True)\n",
    "\n",
    "print('Training Categories:', list(training_data.target_names))\n",
    "print('Total Training Data:', len(training_data.data))"
   ]
  },
  {
   "cell_type": "markdown",
   "metadata": {},
   "source": [
    "## Step 2: Data Analysis\n",
    "It’s good to get an understanding of your dataset. In relation to multiple classifications categories, it is important to know the distribution of the categories so categories are then not under or overrepresented."
   ]
  },
  {
   "cell_type": "code",
   "execution_count": 5,
   "metadata": {},
   "outputs": [
    {
     "data": {
      "text/plain": [
       "<function matplotlib.pyplot.show(*args, **kw)>"
      ]
     },
     "execution_count": 5,
     "metadata": {},
     "output_type": "execute_result"
    },
    {
     "data": {
      "image/png": "[encoded data removed]",
      "text/plain": [
       "<Figure size 432x288 with 1 Axes>"
      ]
     },
     "metadata": {
      "needs_background": "light"
     },
     "output_type": "display_data"
    }
   ],
   "source": [
    "import seaborn as sns\n",
    "import matplotlib.pyplot as plt\n",
    "\n",
    "sns.distplot(training_data.target)\n",
    "plt.show"
   ]
  },
  {
   "cell_type": "markdown",
   "metadata": {},
   "source": [
    "## Step 3 - Converting Text to Vectors\n",
    "To feed predictive models with text data, we first most turn text into vectors of numerical values suitable for statistical analysis.\n",
    "\n",
    "We will use scikit-learn 'CountVectorizer' to create feature vectors -\n",
    "- https://scikit-learn.org/stable/modules/generated/sklearn.feature_extraction.text.CountVectorizer.html"
   ]
  },
  {
   "cell_type": "code",
   "execution_count": 6,
   "metadata": {},
   "outputs": [],
   "source": [
    "def clean_data(test):\n",
    "    training_data_cleaned = []\n",
    "    for data in training_data.data:\n",
    "        data_cleaned = ' '.join(word for word in data.split() \n",
    "                            if letter_only(word))\n",
    "        training_data_cleaned.append(data_cleaned)\n",
    "    \n",
    "    return training_data_cleaned\n",
    "    \n",
    "def letter_only(word):\n",
    "    for character in word:\n",
    "        if not character.isalpha():\n",
    "            return False\n",
    "    return True"
   ]
  },
  {
   "cell_type": "code",
   "execution_count": 7,
   "metadata": {},
   "outputs": [
    {
     "name": "stderr",
     "output_type": "stream",
     "text": [
      "/Users/stuartgreenlees/opt/anaconda3/envs/aicon-2019-tesseract/lib/python3.7/site-packages/sklearn/utils/deprecation.py:144: FutureWarning: The sklearn.feature_extraction.stop_words module is  deprecated in version 0.22 and will be removed in version 0.24. The corresponding classes / functions should instead be imported from sklearn.feature_extraction.text. Anything that cannot be imported from sklearn.feature_extraction.text is now part of the private API.\n",
      "  warnings.warn(message, FutureWarning)\n"
     ]
    },
    {
     "name": "stdout",
     "output_type": "stream",
     "text": [
      "Document-Term Matrix:[n_samples, n_features]:  (2389, 5000)\n",
      "['aa', 'aaa', 'aamir', 'aaron', 'ab']\n"
     ]
    }
   ],
   "source": [
    "from sklearn.feature_extraction.text import CountVectorizer \n",
    "from sklearn.feature_extraction import stop_words\n",
    "\n",
    "# To ensure we don't have numbers included in our feature words we will remove them.\n",
    "training_data_cleaned = clean_data(training_data)\n",
    "\n",
    "# Create count vectorizers with cleaned data and remove stop words. \n",
    "count_vectorizer = CountVectorizer(stop_words=\"english\", max_features=5000)\n",
    "x_training_count =  count_vectorizer.fit_transform(training_data_cleaned)\n",
    "\n",
    "print('Document-Term Matrix:' + '[n_samples, n_features]: ', x_training_count.shape)\n",
    "\n",
    "list = count_vectorizer.get_feature_names()\n",
    "print(list[:5])"
   ]
  },
  {
   "cell_type": "markdown",
   "metadata": {},
   "source": [
    "## Step 4: Convert Count Matrix to normalised tf-idf\n",
    "\n",
    "__Tf__ : term-frequency, prevent giving longer text documents more weightage than shorter documents.\n",
    "\n",
    "__tf-idf__ : term-frequency - inverse document-frequency, intended to reflect how important a word <br> is to a document in a corpus.  \n",
    "\n",
    "- https://scikit-learn.org/stable/modules/generated/sklearn.feature_extraction.text.TfidfTransformer.html#sklearn.feature_extraction.text.TfidfTransformer"
   ]
  },
  {
   "cell_type": "code",
   "execution_count": 8,
   "metadata": {},
   "outputs": [
    {
     "name": "stdout",
     "output_type": "stream",
     "text": [
      "Document-Term Matrix: [n_samples, n_features_new] (2389, 5000)\n"
     ]
    }
   ],
   "source": [
    "from sklearn.feature_extraction.text import TfidfTransformer\n",
    "\n",
    "tfidf_transformer = TfidfTransformer()\n",
    "x_training_tfidf = tfidf_transformer.fit_transform(x_training_count)\n",
    "\n",
    "print('Document-Term Matrix: [n_samples, n_features_new]', x_training_tfidf.shape)"
   ]
  },
  {
   "cell_type": "markdown",
   "metadata": {},
   "source": [
    "## Step 5: Build NBclassifier (Naive Bayes) - Train Classifier\n",
    "\n",
    "We will use the MultinomialNB which implements the NB algorithm for multinomially distributed data.\n",
    "\n",
    "- https://scikit-learn.org/stable/modules/naive_bayes.html\n",
    "- https://www.analyticsvidhya.com/blog/2017/09/naive-bayes-explained/\n",
    "\n",
    "We use the MultinomialNB which implements the NB alogorithm for multinomially distributed data.\n",
    "\n",
    "- https://scikit-learn.org/stable/modules/generated/sklearn.naive_bayes.MultinomialNB.html#sklearn.naive_bayes.MultinomialNB"
   ]
  },
  {
   "cell_type": "code",
   "execution_count": 13,
   "metadata": {},
   "outputs": [],
   "source": [
    "from sklearn.naive_bayes import MultinomialNB\n",
    "\n",
    "# Fit the classifier according to x (training vectors) and y (target values)\n",
    "classifier = MultinomialNB().fit(x_training_tfidf, training_data.target) "
   ]
  },
  {
   "cell_type": "markdown",
   "metadata": {},
   "source": [
    "## Step 3 - 5 can be replaced by using a sklearn pipeline"
   ]
  },
  {
   "cell_type": "code",
   "execution_count": 11,
   "metadata": {},
   "outputs": [],
   "source": [
    "from sklearn.pipeline import Pipeline\n",
    "text_classifier = Pipeline([('vect', CountVectorizer()),('tfidf', TfidfTransformer()),('clf', MultinomialNB()),])\n",
    "classifier = text_classifier.fit(training_data.data, training_data.target)"
   ]
  },
  {
   "cell_type": "markdown",
   "metadata": {},
   "source": [
    "## Step 6: Test Built Classifier\n",
    "Get test data from the 20 News Group data set (same categories as training data) "
   ]
  },
  {
   "cell_type": "code",
   "execution_count": 14,
   "metadata": {},
   "outputs": [
    {
     "name": "stdout",
     "output_type": "stream",
     "text": [
      "Total Testing Data: 1590\n"
     ]
    },
    {
     "data": {
      "text/plain": [
       "0.9465408805031447"
      ]
     },
     "execution_count": 14,
     "metadata": {},
     "output_type": "execute_result"
    }
   ],
   "source": [
    "import numpy as np\n",
    "\n",
    "testing_data = fetch_20newsgroups(subset='test', categories=sub_catergory_list, shuffle=True, download_if_missing=False)\n",
    "\n",
    "print('Total Testing Data:', len(testing_data.data))\n",
    "\n",
    "# Transform Test data vectors \n",
    "x_testing_count = count_vectorizer.transform(testing_data.data)\n",
    "x_testing_tfidf = tfidf_transformer.fit_transform(x_testing_count)\n",
    "\n",
    "# Perform prediction on test data \n",
    "predictions = classifier.predict(x_testing_tfidf)\n",
    "np.mean(predictions == testing_data.target)"
   ]
  },
  {
   "cell_type": "code",
   "execution_count": 15,
   "metadata": {},
   "outputs": [
    {
     "data": {
      "text/plain": [
       "0.9465408805031447"
      ]
     },
     "execution_count": 15,
     "metadata": {},
     "output_type": "execute_result"
    }
   ],
   "source": [
    "# Perform prediction on test data \n",
    "predictions = classifier.predict(x_testing_tfidf)\n",
    "\n",
    "np.mean(predictions == testing_data.target)"
   ]
  },
  {
   "cell_type": "markdown",
   "metadata": {},
   "source": [
    "## Step 7: Evaluate Classifier Model"
   ]
  },
  {
   "cell_type": "code",
   "execution_count": 16,
   "metadata": {},
   "outputs": [],
   "source": [
    "from sklearn.metrics import confusion_matrix, accuracy_score, classification_report\n",
    "\n",
    "accuracy = accuracy_score(testing_data.target, predictions)\n",
    "metrics_report = classification_report(testing_data.target,  predictions)\n",
    "cm = confusion_matrix(testing_data.target, predictions)"
   ]
  },
  {
   "cell_type": "code",
   "execution_count": 17,
   "metadata": {},
   "outputs": [
    {
     "name": "stdout",
     "output_type": "stream",
     "text": [
      "Accuracy rate: 0.95\n",
      "\n",
      "Confusion Matrix Summary \n",
      "\n",
      " [[373  14   6   3]\n",
      " [ 22 370   6   0]\n",
      " [  3   2 377  15]\n",
      " [  1   8   5 385]]\n",
      "Report: \n",
      "\n",
      "               precision    recall  f1-score   support\n",
      "\n",
      "           0       0.93      0.94      0.94       396\n",
      "           1       0.94      0.93      0.93       398\n",
      "           2       0.96      0.95      0.95       397\n",
      "           3       0.96      0.96      0.96       399\n",
      "\n",
      "    accuracy                           0.95      1590\n",
      "   macro avg       0.95      0.95      0.95      1590\n",
      "weighted avg       0.95      0.95      0.95      1590\n",
      "\n"
     ]
    }
   ],
   "source": [
    "print(\"Accuracy rate: \" + str(round(accuracy, 2)) + \"\\n\")\n",
    "print(\"Confusion Matrix Summary \\n\\n\", cm)\n",
    "print(\"Report: \\n\\n\", metrics_report)"
   ]
  },
  {
   "cell_type": "code",
   "execution_count": 18,
   "metadata": {},
   "outputs": [
    {
     "data": {
      "image/png": "[encoded data removed]",
      "text/plain": [
       "<Figure size 1296x1296 with 2 Axes>"
      ]
     },
     "metadata": {
      "needs_background": "light"
     },
     "output_type": "display_data"
    }
   ],
   "source": [
    "plt.rcParams[\"figure.figsize\"] = [18,18]\n",
    "fig = plt.figure()\n",
    "ax = fig.add_subplot(111)\n",
    "cax = ax.matshow(cm)\n",
    "plt.title('Confusion matrix graph')\n",
    "fig.colorbar(cax)\n",
    "ax.set_xticklabels([''] + training_data.target_names)\n",
    "ax.set_yticklabels([''] + training_data.target_names)\n",
    "plt.xlabel('Predicted')\n",
    "plt.ylabel('True')\n",
    "plt.show()"
   ]
  },
  {
   "cell_type": "markdown",
   "metadata": {},
   "source": [
    "## Classify John's Invoice Document"
   ]
  },
  {
   "cell_type": "code",
   "execution_count": 19,
   "metadata": {},
   "outputs": [],
   "source": [
    "extracted_auto = \"Small Auto Parts Supplier Rep Supplier Katie Russ, Payment Terms Due Date Due on receipt 02-12-2019 Qty Description 1 Wheel 2 Wax 1 Battery 2 Headlight bulb 1 Clutch INVOICE Date: 01-01-2019 INVOCE#100 John Smith, Smith's Automobiles 100 Long Roadway, Belfast BT32 QQU 028 90 222222 Customer ID ABC12345 Address 23 Seymour Drive Lisburn Northern Ireland Unit Price £40.00 £10.00 £55.00 £8.00 £140.00 Subtotal Sales Tax Total Make all checks payable to Sample Test Invoice Thank you for your business! TOTAL £40.00 £20.00 £55.00 £16.00 £140.00 £271.00 £120.00 £391.00\"\n",
    "extracted_moto = \"Big Bike Parts Supplier Rep Supplier Seamus White Big Bike Parts Payment Terms Due Date Due on receipt 12.23.2019 Qty Description 1 Wheel 2 Wax 1 Battery 2 Headlight bulb 1 Motorcycle Fork INVOICE Date: 01/01/2019 INVOICE # 100 John Smith Smith’s Automobiles 100 Long Roadway, Belfast, Co. Antrim, BT32 QQU 028 90 222222 Customer ID ABC12345 Address 55 Prospect Drive, Belfast, Co. Antrim Unit Price £40.00 £10.00 £55.00 £8.00 £140.00 Subtotal Sales Tax Total Make all checks payable to Sample Test Invoice Thank you for your business! Line Total £40.00 £20.00 £55.00 £16.00 £140.00 £271.00 £120.00 £391.00\""
   ]
  },
  {
   "cell_type": "code",
   "execution_count": null,
   "metadata": {},
   "outputs": [],
   "source": [
    "extracted_data_list = [extracted_auto, extracted_moto]\n",
    "\n",
    "test_count = count_vectorizer.transform(extracted_data_list)\n",
    "test_tfidf = tfidf_transformer.fit_transform(test_count)"
   ]
  },
  {
   "cell_type": "code",
   "execution_count": null,
   "metadata": {},
   "outputs": [],
   "source": [
    "test_predicition = classifier.predict(test_tfidf)\n",
    "\n",
    "for t in test_predicition:\n",
    "    print(training_data.target_names[t])"
   ]
  }
 ],
 "metadata": {
  "kernelspec": {
   "display_name": "Python 3",
   "language": "python",
   "name": "python3"
  },
  "language_info": {
   "codemirror_mode": {
    "name": "ipython",
    "version": 3
   },
   "file_extension": ".py",
   "mimetype": "text/x-python",
   "name": "python",
   "nbconvert_exporter": "python",
   "pygments_lexer": "ipython3",
   "version": "3.7.5"
  }
 },
 "nbformat": 4,
 "nbformat_minor": 4
}
