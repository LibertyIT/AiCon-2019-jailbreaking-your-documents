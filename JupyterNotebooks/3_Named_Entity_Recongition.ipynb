{
 "cells": [
  {
   "cell_type": "markdown",
   "metadata": {},
   "source": [
    "# Named Entity Recongition (NER) and SpaCy\n",
    "\n",
    "## Overview \n",
    "In this example we will use a pre-trained model from spaCy to find NER fields.\n",
    "\n",
    "## Resources\n",
    "Below is the resources that we used to put together this example : \n",
    "\n",
    "- https://spacy.io/\n",
    "- https://spacy.io/usage/visualizers\n",
    "- https://www.geeksforgeeks.org/python-named-entity-recognition-ner-using-spacy/\n",
    "\n",
    "## Getting Started"
   ]
  },
  {
   "cell_type": "markdown",
   "metadata": {},
   "source": [
    "### Install Spacy and download required files into conda enviornment"
   ]
  },
  {
   "cell_type": "code",
   "execution_count": null,
   "metadata": {},
   "outputs": [],
   "source": [
    "!pip install spacy\n",
    "!python -m spacy download en_core_web_sm "
   ]
  },
  {
   "cell_type": "markdown",
   "metadata": {},
   "source": [
    "### Step 1: Import required files and load nlp"
   ]
  },
  {
   "cell_type": "code",
   "execution_count": null,
   "metadata": {},
   "outputs": [],
   "source": [
    "import spacy\n",
    "\n",
    "# Load English tokenizer, tagger, parser, NER and word vectors\n",
    "nlp = spacy.load(\"en_core_web_sm\")"
   ]
  },
  {
   "cell_type": "markdown",
   "metadata": {},
   "source": [
    "### Step 2: Load in John's invoice details and run through spaCy model"
   ]
  },
  {
   "cell_type": "code",
   "execution_count": null,
   "metadata": {},
   "outputs": [],
   "source": [
    "# We will load the data that has been extracted from two of John's invoices\n",
    "extracted_auto = \"Small Auto Parts Supplier Rep Supplier Katie Russ, Payment Terms Due Date Due on receipt 23-10-2019 Qty Description 1 Wheel 2 Wax 1 Battery 2 Headlight bulb 1 Clutch INVOICE Date: 01-01-2019 INVOCE#100 John Smith, Smith's Automobiles, 100 Long Roadway, Belfast BT32 QQU 02890 222222 Customer ID#ABC12345 Address 23 Seymour Drive Lisburn Northern Ireland Unit Price £40.00 £10.00 £55.00 £8.00 £140.00 Subtotal Sales Tax Total Make all checks payable to Sample test invoice Thank you for your business! TOTAL £40.00 £20.00 £55.00 £16.00 £140.00 £271.00 £120.00 £391.00\"\n",
    "extracted_moto = \"Big Bike Parts Supplier Rep Supplier Seamus White Big Bike Parts Payment Terms Due Date Due on receipt 01-01-2019 Qty Description 1 Wheel 2 Wax 1 Battery 2 Headlight bulb 1 Motorcycle Fork INVOICE Date: 01-01-2019 INVOICE#100 John Smith, Smith’s Automobiles, 100 Long Roadway, Belfast BT32QQU 02890222222 Customer ID ABC12345 Address 55 Long Roadway Belfast Northern Ireland, Unit Price £40.00 £10.00 £55.00 £8.00 £140.00 Subtotal Sales Tax Total Make all checks payable to Sample test invoice Thank you for your business! Line total £40.00 £20.00 £55.00 £16.00 £140.00 £271.00 £120.00 £391.00\""
   ]
  },
  {
   "cell_type": "code",
   "execution_count": null,
   "metadata": {},
   "outputs": [],
   "source": [
    "doc_auto = nlp(extracted_auto)\n",
    "doc_moto = nlp(extracted_moto)"
   ]
  },
  {
   "cell_type": "code",
   "execution_count": null,
   "metadata": {},
   "outputs": [],
   "source": [
    "from spacy import displacy\n",
    "\n",
    "print(\"1. AUTO INVOICE : \")\n",
    "displacy.render(doc_auto, style=\"ent\", jupyter=True)\n",
    "\n",
    "print(\"2.MOTORCYCLE INVOICE : \")\n",
    "displacy.render(doc_moto, style=\"ent\", jupyter=True)"
   ]
  }
 ],
 "metadata": {
  "kernelspec": {
   "display_name": "Python 3",
   "language": "python",
   "name": "python3"
  },
  "language_info": {
   "codemirror_mode": {
    "name": "ipython",
    "version": 3
   },
   "file_extension": ".py",
   "mimetype": "text/x-python",
   "name": "python",
   "nbconvert_exporter": "python",
   "pygments_lexer": "ipython3",
   "version": "3.7.5"
  }
 },
 "nbformat": 4,
 "nbformat_minor": 4
}
